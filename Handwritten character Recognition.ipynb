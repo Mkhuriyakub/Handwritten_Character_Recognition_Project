{
 "cells": [
  {
   "cell_type": "markdown",
   "id": "bc596b63",
   "metadata": {},
   "source": [
    "# Handwritten character recognition"
   ]
  },
  {
   "cell_type": "markdown",
   "id": "6e83cfd0",
   "metadata": {},
   "source": [
    "## Importing necessary packages"
   ]
  },
  {
   "cell_type": "code",
   "execution_count": 2,
   "id": "404a0ea0",
   "metadata": {
    "ExecuteTime": {
     "end_time": "2022-05-16T23:16:02.286930Z",
     "start_time": "2022-05-16T23:16:02.282113Z"
    }
   },
   "outputs": [],
   "source": [
    "import matplotlib.pyplot as plt\n",
    "import cv2\n",
    "import numpy as np\n",
    "from keras.models import Sequential\n",
    "from keras.layers import Dense, Flatten, Conv2D, MaxPool2D, Dropout\n",
    "from tensorflow.keras.optimizers import SGD, Adam\n",
    "from keras.callbacks import ReduceLROnPlateau, EarlyStopping\n",
    "from tensorflow.keras.utils import to_categorical\n",
    "import pandas as pd\n",
    "from sklearn.model_selection import train_test_split\n",
    "from sklearn.utils import shuffle"
   ]
  },
  {
   "cell_type": "markdown",
   "id": "35fc38ef",
   "metadata": {},
   "source": [
    "## Loading in the data"
   ]
  },
  {
   "cell_type": "markdown",
   "id": "16f4428e",
   "metadata": {},
   "source": [
    "Data can be downloaded from Kaggle [here](https://www.kaggle.com/datasets/sachinpatel21/az-handwritten-alphabets-in-csv-format). "
   ]
  },
  {
   "cell_type": "code",
   "execution_count": 3,
   "id": "d7794069",
   "metadata": {
    "ExecuteTime": {
     "end_time": "2022-05-16T23:16:13.260181Z",
     "start_time": "2022-05-16T23:16:03.512408Z"
    }
   },
   "outputs": [
    {
     "data": {
      "text/html": [
       "<div>\n",
       "<style scoped>\n",
       "    .dataframe tbody tr th:only-of-type {\n",
       "        vertical-align: middle;\n",
       "    }\n",
       "\n",
       "    .dataframe tbody tr th {\n",
       "        vertical-align: top;\n",
       "    }\n",
       "\n",
       "    .dataframe thead th {\n",
       "        text-align: right;\n",
       "    }\n",
       "</style>\n",
       "<table border=\"1\" class=\"dataframe\">\n",
       "  <thead>\n",
       "    <tr style=\"text-align: right;\">\n",
       "      <th></th>\n",
       "      <th>0</th>\n",
       "      <th>0.1</th>\n",
       "      <th>0.2</th>\n",
       "      <th>0.3</th>\n",
       "      <th>0.4</th>\n",
       "      <th>0.5</th>\n",
       "      <th>0.6</th>\n",
       "      <th>0.7</th>\n",
       "      <th>0.8</th>\n",
       "      <th>0.9</th>\n",
       "      <th>...</th>\n",
       "      <th>0.639</th>\n",
       "      <th>0.640</th>\n",
       "      <th>0.641</th>\n",
       "      <th>0.642</th>\n",
       "      <th>0.643</th>\n",
       "      <th>0.644</th>\n",
       "      <th>0.645</th>\n",
       "      <th>0.646</th>\n",
       "      <th>0.647</th>\n",
       "      <th>0.648</th>\n",
       "    </tr>\n",
       "  </thead>\n",
       "  <tbody>\n",
       "    <tr>\n",
       "      <th>0</th>\n",
       "      <td>0.0</td>\n",
       "      <td>0.0</td>\n",
       "      <td>0.0</td>\n",
       "      <td>0.0</td>\n",
       "      <td>0.0</td>\n",
       "      <td>0.0</td>\n",
       "      <td>0.0</td>\n",
       "      <td>0.0</td>\n",
       "      <td>0.0</td>\n",
       "      <td>0.0</td>\n",
       "      <td>...</td>\n",
       "      <td>0.0</td>\n",
       "      <td>0.0</td>\n",
       "      <td>0.0</td>\n",
       "      <td>0.0</td>\n",
       "      <td>0.0</td>\n",
       "      <td>0.0</td>\n",
       "      <td>0.0</td>\n",
       "      <td>0.0</td>\n",
       "      <td>0.0</td>\n",
       "      <td>0.0</td>\n",
       "    </tr>\n",
       "    <tr>\n",
       "      <th>1</th>\n",
       "      <td>0.0</td>\n",
       "      <td>0.0</td>\n",
       "      <td>0.0</td>\n",
       "      <td>0.0</td>\n",
       "      <td>0.0</td>\n",
       "      <td>0.0</td>\n",
       "      <td>0.0</td>\n",
       "      <td>0.0</td>\n",
       "      <td>0.0</td>\n",
       "      <td>0.0</td>\n",
       "      <td>...</td>\n",
       "      <td>0.0</td>\n",
       "      <td>0.0</td>\n",
       "      <td>0.0</td>\n",
       "      <td>0.0</td>\n",
       "      <td>0.0</td>\n",
       "      <td>0.0</td>\n",
       "      <td>0.0</td>\n",
       "      <td>0.0</td>\n",
       "      <td>0.0</td>\n",
       "      <td>0.0</td>\n",
       "    </tr>\n",
       "    <tr>\n",
       "      <th>2</th>\n",
       "      <td>0.0</td>\n",
       "      <td>0.0</td>\n",
       "      <td>0.0</td>\n",
       "      <td>0.0</td>\n",
       "      <td>0.0</td>\n",
       "      <td>0.0</td>\n",
       "      <td>0.0</td>\n",
       "      <td>0.0</td>\n",
       "      <td>0.0</td>\n",
       "      <td>0.0</td>\n",
       "      <td>...</td>\n",
       "      <td>0.0</td>\n",
       "      <td>0.0</td>\n",
       "      <td>0.0</td>\n",
       "      <td>0.0</td>\n",
       "      <td>0.0</td>\n",
       "      <td>0.0</td>\n",
       "      <td>0.0</td>\n",
       "      <td>0.0</td>\n",
       "      <td>0.0</td>\n",
       "      <td>0.0</td>\n",
       "    </tr>\n",
       "    <tr>\n",
       "      <th>3</th>\n",
       "      <td>0.0</td>\n",
       "      <td>0.0</td>\n",
       "      <td>0.0</td>\n",
       "      <td>0.0</td>\n",
       "      <td>0.0</td>\n",
       "      <td>0.0</td>\n",
       "      <td>0.0</td>\n",
       "      <td>0.0</td>\n",
       "      <td>0.0</td>\n",
       "      <td>0.0</td>\n",
       "      <td>...</td>\n",
       "      <td>0.0</td>\n",
       "      <td>0.0</td>\n",
       "      <td>0.0</td>\n",
       "      <td>0.0</td>\n",
       "      <td>0.0</td>\n",
       "      <td>0.0</td>\n",
       "      <td>0.0</td>\n",
       "      <td>0.0</td>\n",
       "      <td>0.0</td>\n",
       "      <td>0.0</td>\n",
       "    </tr>\n",
       "    <tr>\n",
       "      <th>4</th>\n",
       "      <td>0.0</td>\n",
       "      <td>0.0</td>\n",
       "      <td>0.0</td>\n",
       "      <td>0.0</td>\n",
       "      <td>0.0</td>\n",
       "      <td>0.0</td>\n",
       "      <td>0.0</td>\n",
       "      <td>0.0</td>\n",
       "      <td>0.0</td>\n",
       "      <td>0.0</td>\n",
       "      <td>...</td>\n",
       "      <td>0.0</td>\n",
       "      <td>0.0</td>\n",
       "      <td>0.0</td>\n",
       "      <td>0.0</td>\n",
       "      <td>0.0</td>\n",
       "      <td>0.0</td>\n",
       "      <td>0.0</td>\n",
       "      <td>0.0</td>\n",
       "      <td>0.0</td>\n",
       "      <td>0.0</td>\n",
       "    </tr>\n",
       "    <tr>\n",
       "      <th>5</th>\n",
       "      <td>0.0</td>\n",
       "      <td>0.0</td>\n",
       "      <td>0.0</td>\n",
       "      <td>0.0</td>\n",
       "      <td>0.0</td>\n",
       "      <td>0.0</td>\n",
       "      <td>0.0</td>\n",
       "      <td>0.0</td>\n",
       "      <td>0.0</td>\n",
       "      <td>0.0</td>\n",
       "      <td>...</td>\n",
       "      <td>0.0</td>\n",
       "      <td>0.0</td>\n",
       "      <td>0.0</td>\n",
       "      <td>0.0</td>\n",
       "      <td>0.0</td>\n",
       "      <td>0.0</td>\n",
       "      <td>0.0</td>\n",
       "      <td>0.0</td>\n",
       "      <td>0.0</td>\n",
       "      <td>0.0</td>\n",
       "    </tr>\n",
       "    <tr>\n",
       "      <th>6</th>\n",
       "      <td>0.0</td>\n",
       "      <td>0.0</td>\n",
       "      <td>0.0</td>\n",
       "      <td>0.0</td>\n",
       "      <td>0.0</td>\n",
       "      <td>0.0</td>\n",
       "      <td>0.0</td>\n",
       "      <td>0.0</td>\n",
       "      <td>0.0</td>\n",
       "      <td>0.0</td>\n",
       "      <td>...</td>\n",
       "      <td>0.0</td>\n",
       "      <td>0.0</td>\n",
       "      <td>0.0</td>\n",
       "      <td>0.0</td>\n",
       "      <td>0.0</td>\n",
       "      <td>0.0</td>\n",
       "      <td>0.0</td>\n",
       "      <td>0.0</td>\n",
       "      <td>0.0</td>\n",
       "      <td>0.0</td>\n",
       "    </tr>\n",
       "    <tr>\n",
       "      <th>7</th>\n",
       "      <td>0.0</td>\n",
       "      <td>0.0</td>\n",
       "      <td>0.0</td>\n",
       "      <td>0.0</td>\n",
       "      <td>0.0</td>\n",
       "      <td>0.0</td>\n",
       "      <td>0.0</td>\n",
       "      <td>0.0</td>\n",
       "      <td>0.0</td>\n",
       "      <td>0.0</td>\n",
       "      <td>...</td>\n",
       "      <td>0.0</td>\n",
       "      <td>0.0</td>\n",
       "      <td>0.0</td>\n",
       "      <td>0.0</td>\n",
       "      <td>0.0</td>\n",
       "      <td>0.0</td>\n",
       "      <td>0.0</td>\n",
       "      <td>0.0</td>\n",
       "      <td>0.0</td>\n",
       "      <td>0.0</td>\n",
       "    </tr>\n",
       "    <tr>\n",
       "      <th>8</th>\n",
       "      <td>0.0</td>\n",
       "      <td>0.0</td>\n",
       "      <td>0.0</td>\n",
       "      <td>0.0</td>\n",
       "      <td>0.0</td>\n",
       "      <td>0.0</td>\n",
       "      <td>0.0</td>\n",
       "      <td>0.0</td>\n",
       "      <td>0.0</td>\n",
       "      <td>0.0</td>\n",
       "      <td>...</td>\n",
       "      <td>0.0</td>\n",
       "      <td>0.0</td>\n",
       "      <td>0.0</td>\n",
       "      <td>0.0</td>\n",
       "      <td>0.0</td>\n",
       "      <td>0.0</td>\n",
       "      <td>0.0</td>\n",
       "      <td>0.0</td>\n",
       "      <td>0.0</td>\n",
       "      <td>0.0</td>\n",
       "    </tr>\n",
       "    <tr>\n",
       "      <th>9</th>\n",
       "      <td>0.0</td>\n",
       "      <td>0.0</td>\n",
       "      <td>0.0</td>\n",
       "      <td>0.0</td>\n",
       "      <td>0.0</td>\n",
       "      <td>0.0</td>\n",
       "      <td>0.0</td>\n",
       "      <td>0.0</td>\n",
       "      <td>0.0</td>\n",
       "      <td>0.0</td>\n",
       "      <td>...</td>\n",
       "      <td>0.0</td>\n",
       "      <td>0.0</td>\n",
       "      <td>0.0</td>\n",
       "      <td>0.0</td>\n",
       "      <td>0.0</td>\n",
       "      <td>0.0</td>\n",
       "      <td>0.0</td>\n",
       "      <td>0.0</td>\n",
       "      <td>0.0</td>\n",
       "      <td>0.0</td>\n",
       "    </tr>\n",
       "  </tbody>\n",
       "</table>\n",
       "<p>10 rows × 785 columns</p>\n",
       "</div>"
      ],
      "text/plain": [
       "     0  0.1  0.2  0.3  0.4  0.5  0.6  0.7  0.8  0.9  ...  0.639  0.640  0.641  \\\n",
       "0  0.0  0.0  0.0  0.0  0.0  0.0  0.0  0.0  0.0  0.0  ...    0.0    0.0    0.0   \n",
       "1  0.0  0.0  0.0  0.0  0.0  0.0  0.0  0.0  0.0  0.0  ...    0.0    0.0    0.0   \n",
       "2  0.0  0.0  0.0  0.0  0.0  0.0  0.0  0.0  0.0  0.0  ...    0.0    0.0    0.0   \n",
       "3  0.0  0.0  0.0  0.0  0.0  0.0  0.0  0.0  0.0  0.0  ...    0.0    0.0    0.0   \n",
       "4  0.0  0.0  0.0  0.0  0.0  0.0  0.0  0.0  0.0  0.0  ...    0.0    0.0    0.0   \n",
       "5  0.0  0.0  0.0  0.0  0.0  0.0  0.0  0.0  0.0  0.0  ...    0.0    0.0    0.0   \n",
       "6  0.0  0.0  0.0  0.0  0.0  0.0  0.0  0.0  0.0  0.0  ...    0.0    0.0    0.0   \n",
       "7  0.0  0.0  0.0  0.0  0.0  0.0  0.0  0.0  0.0  0.0  ...    0.0    0.0    0.0   \n",
       "8  0.0  0.0  0.0  0.0  0.0  0.0  0.0  0.0  0.0  0.0  ...    0.0    0.0    0.0   \n",
       "9  0.0  0.0  0.0  0.0  0.0  0.0  0.0  0.0  0.0  0.0  ...    0.0    0.0    0.0   \n",
       "\n",
       "   0.642  0.643  0.644  0.645  0.646  0.647  0.648  \n",
       "0    0.0    0.0    0.0    0.0    0.0    0.0    0.0  \n",
       "1    0.0    0.0    0.0    0.0    0.0    0.0    0.0  \n",
       "2    0.0    0.0    0.0    0.0    0.0    0.0    0.0  \n",
       "3    0.0    0.0    0.0    0.0    0.0    0.0    0.0  \n",
       "4    0.0    0.0    0.0    0.0    0.0    0.0    0.0  \n",
       "5    0.0    0.0    0.0    0.0    0.0    0.0    0.0  \n",
       "6    0.0    0.0    0.0    0.0    0.0    0.0    0.0  \n",
       "7    0.0    0.0    0.0    0.0    0.0    0.0    0.0  \n",
       "8    0.0    0.0    0.0    0.0    0.0    0.0    0.0  \n",
       "9    0.0    0.0    0.0    0.0    0.0    0.0    0.0  \n",
       "\n",
       "[10 rows x 785 columns]"
      ]
     },
     "execution_count": 3,
     "metadata": {},
     "output_type": "execute_result"
    }
   ],
   "source": [
    "data = pd.read_csv(\"./data/A_Z Handwritten Data/A_Z_Handwritten_Data.csv\").astype('float32')\n",
    "\n",
    "data.head(10)"
   ]
  },
  {
   "cell_type": "markdown",
   "id": "ddeb3827",
   "metadata": {},
   "source": [
    "## Setting up the splits for training and testing"
   ]
  },
  {
   "cell_type": "code",
   "execution_count": 3,
   "id": "740c3ff8",
   "metadata": {
    "ExecuteTime": {
     "end_time": "2022-05-11T20:50:46.824234Z",
     "start_time": "2022-05-11T20:50:46.608194Z"
    }
   },
   "outputs": [],
   "source": [
    "# Split data into images and labels\n",
    "X = data.drop('0', axis= 1)\n",
    "y = data['0']\n",
    "# Column 0 in the data contains the labels for the images, so we assign the 0 column to y\n",
    "# and drop the 0 column in X. "
   ]
  },
  {
   "cell_type": "code",
   "execution_count": 4,
   "id": "90e512cd",
   "metadata": {
    "ExecuteTime": {
     "end_time": "2022-05-11T20:50:47.330712Z",
     "start_time": "2022-05-11T20:50:46.825631Z"
    }
   },
   "outputs": [
    {
     "name": "stdout",
     "output_type": "stream",
     "text": [
      "Train data shape: (297960, 28, 28)\n",
      "Test data shape: (74490, 28, 28)\n"
     ]
    }
   ],
   "source": [
    "# Splitting the data into train and test\n",
    "x_train, x_test, y_train, y_test = train_test_split(X, y, test_size=0.2)\n",
    "\n",
    "# reshaping the data so that it can now be displayed as a 28x28 image.\n",
    "x_train = np.reshape(x_train.values, (x_train.shape[0], 28, 28))\n",
    "x_test = np.reshape(x_test.values, (x_test.shape[0], 28, 28))\n",
    "\n",
    "print(\"Train data shape:\", x_train.shape)\n",
    "print(\"Test data shape:\", x_test.shape)"
   ]
  },
  {
   "cell_type": "markdown",
   "id": "50dff75c",
   "metadata": {},
   "source": [
    "## Creating a dictionary for the alphabet"
   ]
  },
  {
   "cell_type": "code",
   "execution_count": 5,
   "id": "768aa740",
   "metadata": {
    "ExecuteTime": {
     "end_time": "2022-05-11T20:50:47.334034Z",
     "start_time": "2022-05-11T20:50:47.331669Z"
    }
   },
   "outputs": [],
   "source": [
    "letter_dict = {0:'A',\n",
    " 1:'B',\n",
    " 2:'C',\n",
    " 3:'D',\n",
    " 4:'E',\n",
    " 5:'F',\n",
    " 6:'G',\n",
    " 7:'H',\n",
    " 8:'I',\n",
    " 9:'J',\n",
    " 10:'K',\n",
    " 11:'L',\n",
    " 12:'M',\n",
    " 13:'N',\n",
    " 14:'O',\n",
    " 15:'P',\n",
    " 16:'Q',\n",
    " 17:'R',\n",
    " 18:'S',\n",
    " 19:'T',\n",
    " 20:'U',\n",
    " 21:'V',\n",
    " 22:'W',\n",
    " 23:'X', \n",
    " 24:'Y',\n",
    " 25:'Z'}"
   ]
  },
  {
   "cell_type": "markdown",
   "id": "b6e00834",
   "metadata": {},
   "source": [
    "## Distribution of letters in data set"
   ]
  },
  {
   "cell_type": "code",
   "execution_count": 6,
   "id": "7ed32f76",
   "metadata": {
    "ExecuteTime": {
     "end_time": "2022-05-11T20:50:47.530255Z",
     "start_time": "2022-05-11T20:50:47.335608Z"
    }
   },
   "outputs": [
    {
     "data": {
      "image/png": "[encoded data removed]",
      "text/plain": [
       "<Figure size 720x720 with 1 Axes>"
      ]
     },
     "metadata": {
      "needs_background": "light"
     },
     "output_type": "display_data"
    }
   ],
   "source": [
    "# Converting y values(lables) into integer values, allowing us to count each letters appearances.\n",
    "y_int = np.int0(y)\n",
    "# Each time integar values appear they are appended to the count list.\n",
    "count = np.zeros(26, dtype='int')\n",
    "for i in y_int:\n",
    "    count[i] +=1\n",
    "    \n",
    "# Alphabet list created use values function\n",
    "alphabets = []\n",
    "for i in letter_dict.values():\n",
    "    alphabets.append(i)\n",
    "    \n",
    "# Horizontal bar plot to show letter frequency\n",
    "fig, ax = plt.subplots(1,1, figsize=(10,10))\n",
    "ax.barh(alphabets, count)\n",
    "\n",
    "plt.xlabel(\"Number of elements\")\n",
    "plt.ylabel(\"Alphabet\")\n",
    "plt.grid()\n",
    "plt.show()"
   ]
  },
  {
   "cell_type": "markdown",
   "id": "5c5f1f13",
   "metadata": {},
   "source": [
    "## Plotting a few letters"
   ]
  },
  {
   "cell_type": "code",
   "execution_count": 7,
   "id": "93632ed6",
   "metadata": {
    "ExecuteTime": {
     "end_time": "2022-05-11T20:50:47.807764Z",
     "start_time": "2022-05-11T20:50:47.531086Z"
    }
   },
   "outputs": [
    {
     "data": {
      "image/png": "[encoded data removed]",
      "text/plain": [
       "<Figure size 720x720 with 9 Axes>"
      ]
     },
     "metadata": {
      "needs_background": "light"
     },
     "output_type": "display_data"
    }
   ],
   "source": [
    "# Using the shuffle function to grab a random group of letters from the training set\n",
    "shuff = shuffle(x_train[:100])\n",
    "\n",
    "# Plotting 9 letters\n",
    "fig, ax = plt.subplots(3,3, figsize=(10,10))\n",
    "axes = ax.flatten()\n",
    "\n",
    "for i in range(9):\n",
    "    _, shu = cv2.threshold(shuff[i], 30, 200, cv2.THRESH_BINARY)\n",
    "    axes[i].imshow(np.reshape(shuff[i], (28,28)), cmap=\"Greys\")\n",
    "plt.show()"
   ]
  },
  {
   "cell_type": "markdown",
   "id": "2811a080",
   "metadata": {},
   "source": [
    "## Reshaping the data for modeling"
   ]
  },
  {
   "cell_type": "code",
   "execution_count": 8,
   "id": "f088b5d1",
   "metadata": {
    "ExecuteTime": {
     "end_time": "2022-05-11T20:50:47.817362Z",
     "start_time": "2022-05-11T20:50:47.809575Z"
    }
   },
   "outputs": [
    {
     "name": "stdout",
     "output_type": "stream",
     "text": [
      "New shape of training data:  (297960, 28, 28, 1)\n",
      "New shape of test data:  (74490, 28, 28, 1)\n"
     ]
    }
   ],
   "source": [
    "X_train = x_train.reshape(x_train.shape[0],x_train.shape[1],x_train.shape[2],1)\n",
    "print(\"New shape of training data: \", X_train.shape)\n",
    "\n",
    "X_test = x_test.reshape(x_test.shape[0],x_test.shape[1], x_test.shape[2],1)\n",
    "print(\"New shape of test data: \", X_test.shape)\n"
   ]
  },
  {
   "cell_type": "markdown",
   "id": "c71a403d",
   "metadata": {},
   "source": [
    "## Using to_categorical funciton to convert the integars to binary class matrix"
   ]
  },
  {
   "cell_type": "code",
   "execution_count": 9,
   "id": "f735136c",
   "metadata": {
    "ExecuteTime": {
     "end_time": "2022-05-11T20:50:47.838867Z",
     "start_time": "2022-05-11T20:50:47.820156Z"
    }
   },
   "outputs": [
    {
     "name": "stdout",
     "output_type": "stream",
     "text": [
      "New shape of train labels:  (297960, 26)\n",
      "New shape of test labels:  (74490, 26)\n"
     ]
    }
   ],
   "source": [
    "y_trainOHE = to_categorical(y_train, num_classes=26, dtype='int')\n",
    "print(\"New shape of train labels: \", y_trainOHE.shape)\n",
    "\n",
    "y_testOHE = to_categorical(y_test, num_classes=26, dtype='int')\n",
    "print(\"New shape of test labels: \", y_testOHE.shape)"
   ]
  },
  {
   "cell_type": "markdown",
   "id": "bd9998f7",
   "metadata": {},
   "source": [
    "# Creating the CNN\n",
    "The CNN will take the input of labels and generate probabilities"
   ]
  },
  {
   "cell_type": "code",
   "execution_count": 10,
   "id": "719ba07c",
   "metadata": {
    "ExecuteTime": {
     "end_time": "2022-05-11T20:50:48.000100Z",
     "start_time": "2022-05-11T20:50:47.852341Z"
    }
   },
   "outputs": [],
   "source": [
    "model = Sequential()\n",
    "\n",
    "model.add(Conv2D(filters=32, kernel_size=(3, 3), activation='relu', input_shape=(28,28,1)))\n",
    "model.add(MaxPool2D(pool_size=(2, 2), strides=2))\n",
    "\n",
    "model.add(Conv2D(filters=64, kernel_size=(3, 3), activation='relu', padding = 'same'))\n",
    "model.add(MaxPool2D(pool_size=(2, 2), strides=2))\n",
    "\n",
    "model.add(Conv2D(filters=128, kernel_size=(3, 3), activation='relu', padding = 'valid'))\n",
    "model.add(MaxPool2D(pool_size=(2, 2), strides=2))\n",
    "\n",
    "model.add(Flatten())\n",
    "\n",
    "model.add(Dense(64,activation =\"relu\"))\n",
    "model.add(Dense(128,activation =\"relu\"))\n",
    "\n",
    "model.add(Dense(26,activation =\"softmax\"))"
   ]
  },
  {
   "cell_type": "markdown",
   "id": "bebb6d39",
   "metadata": {},
   "source": [
    "## Compiling and fitting the model\n",
    "Defining the optimization and loss function used for fitting. I've decided to use 3 epochs to increase accuracy."
   ]
  },
  {
   "cell_type": "code",
   "execution_count": 25,
   "id": "27f04001",
   "metadata": {
    "ExecuteTime": {
     "end_time": "2022-05-12T21:16:52.551866Z",
     "start_time": "2022-05-12T21:12:32.681031Z"
    }
   },
   "outputs": [
    {
     "name": "stdout",
     "output_type": "stream",
     "text": [
      "Epoch 1/3\n",
      "9312/9312 [==============================] - 86s 9ms/step - loss: 0.0758 - accuracy: 0.9788 - val_loss: 0.0720 - val_accuracy: 0.9813\n",
      "Epoch 2/3\n",
      "9312/9312 [==============================] - 87s 9ms/step - loss: 0.0634 - accuracy: 0.9827 - val_loss: 0.0608 - val_accuracy: 0.9836\n",
      "Epoch 3/3\n",
      "9312/9312 [==============================] - 86s 9ms/step - loss: 0.0566 - accuracy: 0.9846 - val_loss: 0.0683 - val_accuracy: 0.9837\n"
     ]
    }
   ],
   "source": [
    "model.compile(optimizer = Adam(learning_rate=0.001), loss='categorical_crossentropy', metrics=['accuracy'])\n",
    "\n",
    "history = model.fit(X_train, y_trainOHE, epochs=3,  validation_data = (X_test,y_testOHE))"
   ]
  },
  {
   "cell_type": "markdown",
   "id": "d9ed9f83",
   "metadata": {},
   "source": [
    "## Saving the model summary"
   ]
  },
  {
   "cell_type": "code",
   "execution_count": 26,
   "id": "fa2e8297",
   "metadata": {
    "ExecuteTime": {
     "end_time": "2022-05-12T22:23:11.828598Z",
     "start_time": "2022-05-12T22:23:11.756727Z"
    }
   },
   "outputs": [
    {
     "name": "stdout",
     "output_type": "stream",
     "text": [
      "Model: \"sequential\"\n",
      "_________________________________________________________________\n",
      " Layer (type)                Output Shape              Param #   \n",
      "=================================================================\n",
      " conv2d (Conv2D)             (None, 26, 26, 32)        320       \n",
      "                                                                 \n",
      " max_pooling2d (MaxPooling2D  (None, 13, 13, 32)       0         \n",
      " )                                                               \n",
      "                                                                 \n",
      " conv2d_1 (Conv2D)           (None, 13, 13, 64)        18496     \n",
      "                                                                 \n",
      " max_pooling2d_1 (MaxPooling  (None, 6, 6, 64)         0         \n",
      " 2D)                                                             \n",
      "                                                                 \n",
      " conv2d_2 (Conv2D)           (None, 4, 4, 128)         73856     \n",
      "                                                                 \n",
      " max_pooling2d_2 (MaxPooling  (None, 2, 2, 128)        0         \n",
      " 2D)                                                             \n",
      "                                                                 \n",
      " flatten (Flatten)           (None, 512)               0         \n",
      "                                                                 \n",
      " dense (Dense)               (None, 64)                32832     \n",
      "                                                                 \n",
      " dense_1 (Dense)             (None, 128)               8320      \n",
      "                                                                 \n",
      " dense_2 (Dense)             (None, 26)                3354      \n",
      "                                                                 \n",
      "=================================================================\n",
      "Total params: 137,178\n",
      "Trainable params: 137,178\n",
      "Non-trainable params: 0\n",
      "_________________________________________________________________\n"
     ]
    }
   ],
   "source": [
    "model.summary()\n",
    "model.save(r'model_hand.h5')"
   ]
  },
  {
   "cell_type": "code",
   "execution_count": 28,
   "id": "ab0c8060",
   "metadata": {
    "ExecuteTime": {
     "end_time": "2022-05-12T22:24:15.665444Z",
     "start_time": "2022-05-12T22:24:15.659795Z"
    }
   },
   "outputs": [
    {
     "data": {
      "text/plain": [
       "{'loss': [0.07582677155733109, 0.06342212855815887, 0.056647397577762604],\n",
       " 'accuracy': [0.978755533695221, 0.982702374458313, 0.9846086502075195],\n",
       " 'val_loss': [0.07196612656116486, 0.06082184240221977, 0.06827067583799362],\n",
       " 'val_accuracy': [0.9813129305839539, 0.9836085438728333, 0.9836622476577759]}"
      ]
     },
     "execution_count": 28,
     "metadata": {},
     "output_type": "execute_result"
    }
   ],
   "source": [
    "history.history"
   ]
  },
  {
   "cell_type": "markdown",
   "id": "d92d8ca8",
   "metadata": {},
   "source": [
    "## Printing the accuracies"
   ]
  },
  {
   "cell_type": "code",
   "execution_count": 27,
   "id": "8f52f722",
   "metadata": {
    "ExecuteTime": {
     "end_time": "2022-05-12T22:24:10.537735Z",
     "start_time": "2022-05-12T22:24:10.530905Z"
    }
   },
   "outputs": [
    {
     "name": "stdout",
     "output_type": "stream",
     "text": [
      "The validation accuracy is : [0.9813129305839539, 0.9836085438728333, 0.9836622476577759]\n",
      "The training accuracy is : [0.978755533695221, 0.982702374458313, 0.9846086502075195]\n",
      "The validation loss is : [0.07196612656116486, 0.06082184240221977, 0.06827067583799362]\n",
      "The training loss is : [0.07582677155733109, 0.06342212855815887, 0.056647397577762604]\n"
     ]
    }
   ],
   "source": [
    "print(\"The validation accuracy is :\", history.history['val_accuracy'])\n",
    "print(\"The training accuracy is :\", history.history['accuracy'])\n",
    "print(\"The validation loss is :\", history.history['val_loss'])\n",
    "print(\"The training loss is :\", history.history['loss'])"
   ]
  },
  {
   "cell_type": "markdown",
   "id": "d5441cbc",
   "metadata": {},
   "source": [
    "## Doing predictions"
   ]
  },
  {
   "cell_type": "code",
   "execution_count": 29,
   "id": "6537c78d",
   "metadata": {
    "ExecuteTime": {
     "end_time": "2022-05-12T22:25:43.078904Z",
     "start_time": "2022-05-12T22:25:42.984991Z"
    }
   },
   "outputs": [
    {
     "name": "stdout",
     "output_type": "stream",
     "text": [
      "(74490, 28, 28, 1)\n"
     ]
    }
   ],
   "source": [
    "pred = model.predict(X_test[:9])\n",
    "print(X_test.shape)"
   ]
  },
  {
   "cell_type": "code",
   "execution_count": 30,
   "id": "51821833",
   "metadata": {
    "ExecuteTime": {
     "end_time": "2022-05-12T22:25:44.049517Z",
     "start_time": "2022-05-12T22:25:43.711926Z"
    }
   },
   "outputs": [
    {
     "data": {
      "image/png": "[encoded data removed]",
      "text/plain": [
       "<Figure size 576x648 with 9 Axes>"
      ]
     },
     "metadata": {
      "needs_background": "light"
     },
     "output_type": "display_data"
    }
   ],
   "source": [
    "\n",
    "fig, axes = plt.subplots(3,3, figsize=(8,9))\n",
    "axes = axes.flatten()\n",
    "\n",
    "for i, ax in enumerate(axes):\n",
    "    img = np.reshape(X_test[i], (28,28))\n",
    "    ax.imshow(img, cmap=\"Greys\")\n",
    "                     \n",
    "    pred = letter_dict[np.argmax(y_testOHE[i])]\n",
    "    ax.set_title(\"Prediction: \"+pred)\n",
    "    ax.grid()"
   ]
  },
  {
   "cell_type": "markdown",
   "id": "f5d0aba6",
   "metadata": {},
   "source": [
    "### Doing a predicition on an external image"
   ]
  },
  {
   "cell_type": "code",
   "execution_count": 36,
   "id": "b12f05ea",
   "metadata": {
    "ExecuteTime": {
     "end_time": "2022-05-12T22:49:16.082078Z",
     "start_time": "2022-05-12T22:37:35.167332Z"
    }
   },
   "outputs": [
    {
     "ename": "KeyboardInterrupt",
     "evalue": "",
     "output_type": "error",
     "traceback": [
      "\u001b[0;31m---------------------------------------------------------------------------\u001b[0m",
      "\u001b[0;31mKeyboardInterrupt\u001b[0m                         Traceback (most recent call last)",
      "Input \u001b[0;32mIn [36]\u001b[0m, in \u001b[0;36m<cell line: 31>\u001b[0;34m()\u001b[0m\n\u001b[1;32m     29\u001b[0m cv2\u001b[38;5;241m.\u001b[39mimshow(\u001b[38;5;124m'\u001b[39m\u001b[38;5;124mDataflair handwritten character recognition _ _ _\u001b[39m\u001b[38;5;124m'\u001b[39m, img)\n\u001b[1;32m     31\u001b[0m \u001b[38;5;28;01mwhile\u001b[39;00m (\u001b[38;5;241m1\u001b[39m):\n\u001b[0;32m---> 32\u001b[0m     k \u001b[38;5;241m=\u001b[39m \u001b[43mcv2\u001b[49m\u001b[38;5;241;43m.\u001b[39;49m\u001b[43mwaitKey\u001b[49m\u001b[43m(\u001b[49m\u001b[38;5;241;43m5000\u001b[39;49m\u001b[43m)\u001b[49m \u001b[38;5;241m&\u001b[39m \u001b[38;5;241m0xFF\u001b[39m\n\u001b[1;32m     33\u001b[0m     \u001b[38;5;28;01mif\u001b[39;00m k \u001b[38;5;241m==\u001b[39m \u001b[38;5;241m27\u001b[39m:\n\u001b[1;32m     34\u001b[0m         \u001b[38;5;28;01mbreak\u001b[39;00m\n",
      "\u001b[0;31mKeyboardInterrupt\u001b[0m: "
     ]
    }
   ],
   "source": [
    "# Reading in the image\n",
    "img = cv2.imread('./letter_b2.jpeg')\n",
    "# Creating a copy to process\n",
    "img_copy = img.copy()\n",
    "\n",
    "# Converting the color from BGR to RGB\n",
    "img = cv2.cvtColor(img, cv2.COLOR_BGR2RGB)\n",
    "\n",
    "# Resizing the image\n",
    "img = cv2.resize(img, (400,440))\n",
    "\n",
    "# Blurring the image with GaussianBlur\n",
    "img_copy = cv2.GaussianBlur(img_copy, (7,7), 0)\n",
    "# Converting the image to grayscale\n",
    "img_gray = cv2.cvtColor(img_copy, cv2.COLOR_BGR2GRAY)\n",
    "# Applying a threshold to keep the image smooth and improve accuracy in prediction\n",
    "_, img_thresh = cv2.threshold(img_gray, 100, 255, cv2.THRESH_BINARY_INV)\n",
    "\n",
    "# Resizing the image again to fit the model input\n",
    "img_final = cv2.resize(img_thresh, (28,28))\n",
    "# Reshaping for model input as well\n",
    "img_final = np.reshape(img_final, (1,28,28,1))\n",
    "\n",
    "# Make a prediction on the processed image and np.argmax\n",
    "img_pred = letter_dict[np.argmax(model.predict(img_final))]\n",
    "\n",
    "cv2.putText(img, \"Dataflair _ _ _\", (20,25), cv2.FONT_ITALIC, 0.7, color= (0,0,230))\n",
    "cv2.putText(img, \"Prediction: \" + img_pred, (20,410), cv2.FONT_ITALIC, 1.3, color = (255,0,30))\n",
    "cv2.imshow('Dataflair handwritten character recognition _ _ _', img)\n",
    "\n",
    "while (1):\n",
    "    k = cv2.waitKey(5000) & 0xFF\n",
    "    if k == 27:\n",
    "        break\n",
    "    cv2.destroyAllWindows()"
   ]
  },
  {
   "cell_type": "code",
   "execution_count": null,
   "id": "9dba8694",
   "metadata": {},
   "outputs": [],
   "source": []
  }
 ],
 "metadata": {
  "kernelspec": {
   "display_name": "projects",
   "language": "python",
   "name": "projects"
  },
  "language_info": {
   "codemirror_mode": {
    "name": "ipython",
    "version": 3
   },
   "file_extension": ".py",
   "mimetype": "text/x-python",
   "name": "python",
   "nbconvert_exporter": "python",
   "pygments_lexer": "ipython3",
   "version": "3.10.2"
  },
  "toc": {
   "base_numbering": 1,
   "nav_menu": {},
   "number_sections": true,
   "sideBar": true,
   "skip_h1_title": false,
   "title_cell": "Table of Contents",
   "title_sidebar": "Contents",
   "toc_cell": false,
   "toc_position": {},
   "toc_section_display": true,
   "toc_window_display": true
  }
 },
 "nbformat": 4,
 "nbformat_minor": 5
}
